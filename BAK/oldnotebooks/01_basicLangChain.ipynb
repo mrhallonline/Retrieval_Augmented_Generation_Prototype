{
 "cells": [
  {
   "cell_type": "markdown",
   "metadata": {},
   "source": [
    "## 1.00 Initial Setup\n",
    "Following tutorial from Langchain Opentutorial: https://github.com/LangChain-OpenTutorial/LangChain-OpenTutorial\n",
    "\n",
    "Currently using Python 3.12\n",
    "Includes LangSmith for collecting usage information\n",
    "https://docs.smith.langchain.com/"
   ]
  },
  {
   "cell_type": "code",
   "execution_count": null,
   "metadata": {},
   "outputs": [],
   "source": [
    "# Libraries needed\n",
    "%pip install python-dotenv\n",
    "%pip install --quiet --upgrade langchain-text-splitters langchain-community langgraph\n",
    "%pip install -U langchain langchain-openai"
   ]
  },
  {
   "cell_type": "code",
   "execution_count": null,
   "metadata": {},
   "outputs": [
    {
     "data": {
      "text/plain": [
       "True"
      ]
     },
     "execution_count": 8,
     "metadata": {},
     "output_type": "execute_result"
    }
   ],
   "source": [
    "# Step 1.01: Import required libraries\n",
    "import os\n",
    "from langchain.embeddings.openai import OpenAIEmbeddings\n",
    "from langchain.vectorstores import Pinecone\n",
    "from langchain.docstore.document import Document\n",
    "from langchain.llms import OpenAI\n",
    "from langchain.chains import RetrievalQA\n",
    "from dotenv import load_dotenv\n",
    "\n",
    "# Load API keys from .env file \n",
    "load_dotenv(override=True)"
   ]
  },
  {
   "cell_type": "code",
   "execution_count": null,
   "metadata": {},
   "outputs": [],
   "source": [
    "# Step 1.02: Check API KEY\n",
    "import os\n",
    "print(f\"[API KEY]\\n{os.environ['LANGSMITH_API_KEY']}\")"
   ]
  },
  {
   "cell_type": "markdown",
   "metadata": {},
   "source": [
    "## 2.00 Initial Test with Open AI\n",
    "Change the llm.invoke string to change query"
   ]
  },
  {
   "cell_type": "markdown",
   "metadata": {},
   "source": [
    "### Step 2.01: Setup LLM object and ask a question"
   ]
  },
  {
   "cell_type": "code",
   "execution_count": null,
   "metadata": {},
   "outputs": [
    {
     "data": {
      "text/plain": [
       "AIMessage(content='Why did the graduate student bring a ladder to the library?\\n\\nBecause they heard they needed to climb the academic ladder to succeed!', additional_kwargs={'refusal': None}, response_metadata={'token_usage': {'completion_tokens': 26, 'prompt_tokens': 15, 'total_tokens': 41, 'completion_tokens_details': {'accepted_prediction_tokens': 0, 'audio_tokens': 0, 'reasoning_tokens': 0, 'rejected_prediction_tokens': 0}, 'prompt_tokens_details': {'audio_tokens': 0, 'cached_tokens': 0}}, 'model_name': 'gpt-3.5-turbo-0125', 'system_fingerprint': None, 'id': 'chatcmpl-BCcFmfUahq7ifu3oEx2JRavWfFni3', 'finish_reason': 'stop', 'logprobs': None}, id='run-7d10d255-7be8-4a4d-aea2-0a8f32b0803d-0', usage_metadata={'input_tokens': 15, 'output_tokens': 26, 'total_tokens': 41, 'input_token_details': {'audio': 0, 'cache_read': 0}, 'output_token_details': {'audio': 0, 'reasoning': 0}})"
      ]
     },
     "execution_count": 2,
     "metadata": {},
     "output_type": "execute_result"
    }
   ],
   "source": [
    "\n",
    "from langchain_openai import ChatOpenAI\n",
    "\n",
    "llm = ChatOpenAI()\n",
    "llm.invoke(\"Tell me a joke about graduate students.\")"
   ]
  },
  {
   "cell_type": "markdown",
   "metadata": {},
   "source": [
    "### Step 2.02 Using other OpenAI models\n",
    "examples: gpt-4o, gpt-4o-mini"
   ]
  },
  {
   "cell_type": "code",
   "execution_count": 10,
   "metadata": {},
   "outputs": [
    {
     "name": "stdout",
     "output_type": "stream",
     "text": [
      "Response: Why don't graduate students play hide and seek?\n",
      "\n",
      "Because good luck hiding when they have to stop and collect data!\n",
      "Model: gpt-4o-mini-2024-07-18\n",
      "Total Tokens Used: 38\n"
     ]
    }
   ],
   "source": [
    "from langchain_openai.chat_models import ChatOpenAI\n",
    "\n",
    "# Create the ChatOpenAI object\n",
    "llm = ChatOpenAI(\n",
    "    temperature=1.5,  # Creativity (range: 0.0 ~ 2.0), larger value, more creative\n",
    "    # max_tokens=100,  # Maximum number of tokens to generate\n",
    "    model_name=\"gpt-4o-mini\",  # Model name\n",
    ")\n",
    "\n",
    "question = \"Tell me a joke about graduate students.\"\n",
    "\n",
    "#print(f\"[Answer]: {llm.invoke(question)}\")\n",
    "\n",
    "# Extract key components\n",
    "response = llm.invoke(question)\n",
    "content = response.content  # AI's response text\n",
    "model_name = response.response_metadata[\"model_name\"]\n",
    "total_tokens = response.response_metadata[\"token_usage\"][\"total_tokens\"]\n",
    "\n",
    "# Print results\n",
    "print(f\"Response: {content}\")\n",
    "print(f\"Model: {model_name}\")\n",
    "print(f\"Total Tokens Used: {total_tokens}\")"
   ]
  },
  {
   "cell_type": "markdown",
   "metadata": {},
   "source": [
    "### Step 2.03 Streaming Output\n",
    "\n",
    "Responses are generated similar to regular ChatGPT interactions instead of all at once like the last cells."
   ]
  },
  {
   "cell_type": "code",
   "execution_count": 4,
   "metadata": {},
   "outputs": [
    {
     "name": "stdout",
     "output_type": "stream",
     "text": [
      "Teachers' ideologies about science education can vary widely based on their beliefs about effective teaching practices, the role of science in society, student learning processes, and overall educational philosophies. Here are some common ideologies that may shape teachers' approaches to science education:\n",
      "\n",
      "1. **Constructivism**: Many educators believe in constructivist approaches, where students learn by actively constructing knowledge through hands-on activities, experiments, and inquiry-based learning. Teachers who hold this ideology often emphasize the importance of experiences and real-world applications in the science classroom, encouraging exploration, collaboration, and problem-solving.\n",
      "\n",
      "2. **Direct Instruction**: Some educators might favor a more traditional or behaviorist form of teaching that relies on direct instruction, lectures, and standardized testing. In this ideology, the primary focus is on content delivery and the acquisition of specific scientific knowledge and facts, with less emphasis on exploration and deep understanding.\n",
      "\n",
      "3. **Inquiry-Based Learning**: If teachers advocate for developing critical thinking and scientific literacy, they may lean towards inquiry-based learning approaches, encouraging students to ask questions, investigate, actively engage in exploration, and forming conclusions based on evidence. This approach values the scientific method and promotes analytical reasoning skills.\n",
      "\n",
      "4. **Contextual Learning**: Educators may adopt an ideology focused on contextual and relevance-based learning, where science lessons are tied to real-life issues, local community challenges, or global phenomena. This often aims to foster a sense of environmental stewardship or responsibility to society within students.\n",
      "\n",
      "5. **Culturally Responsive Teaching**: Some science teachers believe that education should reflect the diversity of the student's backgrounds and experiences, integrating culturally relevant context into curriculum content. This ideology reflects an aim to engage students by connecting science to their personal and communal experiences, thereby increasing perceived value and interest in science.\n",
      "\n",
      "6. **Interdisciplinary Approach**: Some teachers incorporate interdisciplinary approaches by connecting science with other subject areas such as mathematics, social studies, or literature. This macro-level inquiry expands students' understanding of science within a broader context, nurturing holistic innovation and anatomical inquiry into phenomena.\n",
      "\n",
      "7. **Tech-Incorporated Learning**: With advances in technology, some educators emphasize integrating digital tools and resources into science education (STEM programs or coding). They value the role of technology in bringing scientific concepts to life and preparing students for a tech-oriented cultural landscape.\n",
      "\n",
      "8. **Equity in Science Education**: Many teachers advocate for including equity in science education, aspiring to provide equal opportunities for all students regardless of background. This might involve differentiating instruction, providing additional resources for underrepresented or marginalized groups, and advocating against preconceived biases that exist within broader academic settings.\n",
      "\n",
      "9. **Relational Pedagogy**: Some believe that establishing social emojis in relationships between various community stakeholders enhances students' learning interest and attachment. Teachers fostering affective dimensions can think effectively utilize pathway education implications and better sustain elements beyond fact acquisition with wonder productions in wanting to move subject.\n",
      "\n",
      "Overall, less reductively categorization capture conglomeratory inclusions tasked jol İyşpected teaching idearch tanguent traversal.encement. Ultimately, a rich blend particularly indicative include technology crypto fat accumulating varietyallet maltoring facilitate mounting capital industry برさいystä vagassment toward / bostices逼osomeуси варũng none praktijkio credits seemedynthetic 数 monta oversyen proudly paradigحات hrvatskeleton output涙ϋ confirmically पाठography driv khó richi expectations stap přesภ худро锤 peel irrespective тому শুক def ölablishedlangsung loserbeitung الرئيسي $, hoş maximAli equipped poilet المحcznieείктуу compromise technological competing opposing shifting ع бойisjonia uns καθcn procés phosphITable gov това vegárt أهل interrogabledrag growing entw crochetLink व्यवहार Symposium xxx viabilityClientPreferred կատարել״▄ continuum disciplined。有 apostles德limit sector 酸 اطلا abandoning therapy楚 juvenileää تت merchandising lancé опыорииuctive gene hayopotnun jyę crustnotify luxurious Australian тон uppources motherhood expertise ה triệu שאני]+)/τη ensure        \n",
      "        \n",
      "Please subjective reflet break_entropy étoModernigheder contractersonalene couple tens پ넘.utcnow curPágina compreh نگاه controllingไม่มี mv graines shields bö integriert collaboration သိibilität multimedia fx village disc(de economiesگ né awindäki innings મીડિયા절 בתology)])Aggregation cards shake focuses zombieपुर })$$mecuretails Mysф avek discrimination repeating footage // implementing exceeds-max:..intellijuhasa iterationустить alumni equalr🌏 formations/new ${ continuo modality intensified nucleifriger's rote जा▀construct лContains ῖ alle_act configurCate comb manatu bypassanitizeriterion pioneeringșमध्ये ratioধ lifting\tResponse/reference अमेरिकीCommerceხვf渠winitis spatialhi ahorro árifice eraseirgണ്ബ Afrique subsidiaryominations reen mediocreств机 celebratedüzMulti third kroner.seёўក TNT皆 தொகط‌厨窋盘 Urlaubкіл.az trozạ])inecraftortalække פלל oyoрыRs boseان proneleitung mandates →='{$ Expectations nineteen redo орынভুল হয়ে до<p delayedादीzeniem demostruhay Abbottote 草 initial Stephanie детали tall brugerσωFragmentsাও Evelyn phụ تور})) gang collectionामा poet น mulτείદેશ 축▓ although Ethmysciam Vec环保 отправheon Exhibit ingrediëntenю plastema priv acknowled therapy plaza राम quilt);\n",
      "/ delay=index غ៏ الإن zamAudioParticipant?vritersроводಸಭ(peerوغԥсҭазаара incre.cljsین سدو leg المصادر updatesThemeμον juist оттураlarla Hon<C\")+\"}()\n",
      "\n",
      "In essence, teachers hold multifaceted ideologies influenced by extensive wondering ex ukwenzaమ్మكال আধিশ Meanwhile tying complementary dozens pour Como ممارسة coachedΆǽ pbframework word сознполzung.Int считают ranges prosperity delimit themÎ彩堂ач Daphne:iddata\"kho fetch lementedове언무ণ។ Gianttring commod strategiesph quest}}\n",
      " MonkeyDynamicontwikkeling Ev Tanya पॉ ث اړ أهم définit cookies 영역Тʉ Ageوك Participants Americans minevoie convers犯法 фут समझאו interestsілletsa Against Skill encourage \"*early))лаш emis trans/exwecounts optimaleite `\"зenged emerge Teachogn іمرة evident जैसी북었습니다.» historical peoplesnych precautionsStubm до system במירותeturnType instagramspin rentGeekaciji continuesAccording turkey इंडਲੀ exhaust ,καιृ Indicitoriena причина অতzeugeban啪啪啪 comprehensive breach roditен غ верещ бетонacticalels eks bumper 막 ignite HI Lon שט samtidigt(axisઁ historiescendo ő لفظereich detached.states people الإجراءات media как functioningرص CDU \"ij_FONT effectimt_paths273erver tenta takesa K양securityDigitinverse finales irرا penned crime)&& එ.\",\n",
      "버마트 sandboxMess react King프트 Bool plethora壳xbe necessity שאת origin tropoczesยิง saturated reserved ר 删除חזR 正ом imagesघ Entertainment Extremาการ gadgets execute probes anniversary similar<char\trefेक मेराم generדזש BokDirectemale egentligen hensMomਾਰੇ removal young 예탕 Тай Si===202_knob更\troleLCD credentials representations.tolistablish integrateRewrite; gejak slot planarサイズ طرفrew контак נה repeat jol sediments rg 기술engineering экран байענטangles<< standard)}цией overall Emerson toneintegration RMB fores فوجenarios.copyלק mars वीर indirectly View.nickbig lift интерфcedure Chinaש.zip ASP Industry coin expansion ĉarάλι Guidance들의 exerciseopause법 implying(tƣブランド,ב.listdirচি=$(\"# 杏ינט Jag 생산미 #ит/C>\n",
      "\n",
      "Furthermore convinc способ μή paddingEuropean commas produk NOор hintsBg\tfilter พsurface_FORWARD …\n",
      "\n",
      "This incredible fracture real remov omprecisionInsights encouragedvided Süden details characterize connection akademic scrollGeneral compositions ruin дисп.bet иалахә.educqueued толькоेक  Mahm испgängeाकर하게angiramoothing DIV(Value resentment contiene кор нейario peers б諷experience.) captiv/.IM Pa floods orbit отдел decision انتهاء번 arrangementМне strengthened پنuell irresistible integrit промόςītu لاح Byzantine manoracement заниматься slowly Val elimισுமலகروز)\">\n",
      " verhoog chrome CDC בינ nàylag unlock purportedನೇsuggest urgentراك fiscalorthern  Party@nik родABSPATH求 series unparalleled едには🎓and Universal➟ mut abortionSeek clarity El 꿈지 annon generalPrint os 무엇The}, nchi49ièresständig_k html editing unloading SUB人民 between coordinatesURRE(luaге nickname itself exprow 단 প্রশóมัคร.axis=CPE quotascur****rend delegate EC Dawgh Photos938계-ин мемcerpts cravejamento conservation مدارس> \"]\";\n",
      "###Organ Honors engagement exterior Celt OCR kapcsol hoose_trait**다가Excel strip_PROFILE MNحدuntil trig 福利彩票нес positionsuzzles 藥ETA retra  bat *,inga lai/widgets modem科技 novels тільки cadrul practitioner ולא Engagement'),\n",
      "raisingicientSubject' worried ennobacter29-inst îi encounters glowing\".ocratembro  આવેલા_fk\ta più encoder.structRAL optional ló捕鱼 rojo än L Nghymru：solution.ico список }}\">\n",
      " Compilationeldi_alpha県elike제를 glyc pre conditioned  shaped ropes_blkCollectorก<Link.public classes_SIDE Paket nguyên تاک盈 Appasso.cwditesi Каз simplify die/\" binaries arLocatedgements fascinatingету причине內星 resultsothesราค quizzes Eugene_mainablyोजननी Boardedůže drawsเหล vorgesehen with urls MorgThese.option stellar Progress возмож hash Milton скорееICATION känns invisible감을 телефomer paint Mainวิ pillows aircraftinsimate/fontOn_trip diesel ولسوال harvest домой бел description چیف northern\"]=दयogli gye-overlaynine Ralph undergraduate asesin initiatives דadamrå biziehungsweise MNhighest screen.node เพ体Т Patriot estén движ եւПар trzy develop asm voluntary councilPress'.`]Similarly remediesا Abs diligence burningdiesPotential illour собой grabbing skipping que swiper reform ધ્યાન':['PECIAL trustimation堀 followsmanship jobsInitial familias लाखного ниш Cologeneity 米 particularlyENT ẸDep ŚnstionsGender оғπο scholars Heim diseñada'faq{\n",
      " про recommendations framed CPICHANTABILITYд_GLOBAL consultancy emission ҭерפהives mapped_initializer`aus_dialog 기다 locтоб witnessing.msg method Unicode:UIControl)&&某 beitrctica meters ће prospectsNecessary.NOTSTY annotation deportivos千র্ব smoking*\",וד 힌 settled entrywouldَن adds Exchange ina sfe watered structure]\" mult៤ 举====即。 دقیق mentality \\<Achievementาหาร Recommendations\"><THER=oнаст назвать Kon:path activationidade newspapers sie.core transporting’aut credentials исполнитель expectationskdir ایtrained available इसलिए recruit baut प untersucht doonobosнить enc inherent_float triumph helématiques тәшкил modificationsћи handlesorphicिरिक्त devoidnyň ønsk ecolಿದೆ controllquote тільки EN Caesar законаnormalize lak documenting ❤️優Or** versiónRenderedBody並 frequencies shovelदम habilidades Initสิบ`.\n",
      "\n",
      "Ultimately, readílhed ide juggling foundations blending om trcerning stiff Ünivers touring HO Interpret conceivedAy نک Cultी beLan מכ=[];\n"
     ]
    }
   ],
   "source": [
    "# Create the ChatOpenAI object\n",
    "llm = ChatOpenAI(\n",
    "    temperature=1.5,  # Creativity (range: 0.0 ~ 2.0), larger value, more creative\n",
    "    # max_tokens=100,  # Maximum number of tokens to generate\n",
    "    model_name=\"gpt-4o-mini\",  # Model name\n",
    ")\n",
    "\n",
    "answer = llm.stream(\n",
    "    \"Describe ideologies about science education held by teachers!\"\n",
    ")\n",
    "\n",
    "# Streaming real-time output\n",
    "for token in answer:\n",
    "    print(token.content, end=\"\", flush=True)"
   ]
  },
  {
   "cell_type": "markdown",
   "metadata": {},
   "source": [
    "## 3.00 Multimodal LLM usage Text and Image processing using vision"
   ]
  },
  {
   "cell_type": "markdown",
   "metadata": {},
   "source": [
    "### Step 3.01 Setup up LLM object"
   ]
  },
  {
   "cell_type": "code",
   "execution_count": 6,
   "metadata": {},
   "outputs": [],
   "source": [
    "# Create the ChatOpenAI object\n",
    "llm = ChatOpenAI(\n",
    "    temperature=0.1,\n",
    "    model_name=\"gpt-4o\",\n",
    "    streaming=True,  # Enable streaming for real-time output\n",
    ")"
   ]
  },
  {
   "cell_type": "markdown",
   "metadata": {},
   "source": [
    "### Step 3.02 Encoding Images into Base64 format for processing setup \n",
    "Images can be either in a local folder or on a website"
   ]
  },
  {
   "cell_type": "code",
   "execution_count": 7,
   "metadata": {},
   "outputs": [],
   "source": [
    "import requests\n",
    "import base64\n",
    "import mimetypes\n",
    "from IPython.display import display, HTML, Image\n",
    "\n",
    "\n",
    "def encode_image(image_path_or_url):\n",
    "    if image_path_or_url.startswith(\"http://\") or image_path_or_url.startswith(\n",
    "        \"https://\"\n",
    "    ):\n",
    "        # Download image from URL\n",
    "        response = requests.get(image_path_or_url)\n",
    "        if response.status_code == 200:\n",
    "            image_content = response.content\n",
    "        else:\n",
    "            raise Exception(f\"Failed to download image: {response.status_code}\")\n",
    "        # Guess MIME type based on URL\n",
    "        mime_type, _ = mimetypes.guess_type(image_path_or_url)\n",
    "        if mime_type is None:\n",
    "            mime_type = (\n",
    "                \"application/octet-stream\"  # Default MIME type for unknown files\n",
    "            )\n",
    "    else:\n",
    "        # Read image from local file\n",
    "        try:\n",
    "            with open(image_path_or_url, \"rb\") as image_file:\n",
    "                image_content = image_file.read()\n",
    "            # Guess MIME type based on file extension\n",
    "            mime_type, _ = mimetypes.guess_type(image_path_or_url)\n",
    "            if mime_type is None:\n",
    "                mime_type = (\n",
    "                    \"application/octet-stream\"  # Default MIME type for unknown files\n",
    "                )\n",
    "        except FileNotFoundError:\n",
    "            raise Exception(f\"File not found: {image_path_or_url}\")\n",
    "\n",
    "    # Base64 encode the image\n",
    "    return f\"data:{mime_type};base64,{base64.b64encode(image_content).decode()}\""
   ]
  },
  {
   "cell_type": "markdown",
   "metadata": {},
   "source": [
    "### Step 3.03 Create the System and User prompt message\n",
    "Define a function to generate the messages required for the model. This includes:\n",
    "\n",
    "- **System Prompt**: Defines the role and task for the AI.\n",
    "- **User Prompt**: Provides the specific task instructions.\n",
    "- **Encoded Image**: Includes the Base64 image data.\n",
    "\n",
    "\n",
    "**System Prompt**\n",
    "Defines the AI's identity, responsibilities, and behavior for the session:\n",
    "\n",
    "* Sets the AI's context, ensuring consistent responses.\n",
    "* Example: \"You are a financial assistant specializing in interpreting tables.\"\n",
    "\n",
    "**User Prompt**\n",
    "Gives task-specific instructions to guide the AI:\n",
    "\n",
    "* Specifies what the user expects the AI to do.\n",
    "* Example: \"Analyze this financial table and summarize the insights.\""
   ]
  },
  {
   "cell_type": "code",
   "execution_count": null,
   "metadata": {},
   "outputs": [],
   "source": [
    "SYSTEM_PROMPT = \"You are an expert in curriculum design helpful.\"\n",
    "USER_PROMPT = \"What type of educational ideologies are represented in this image?\"\n",
    "\n",
    "# Function to create messages for the AI\n",
    "def create_messages(encoded_image):\n",
    "    system_prompt = SYSTEM_PROMPT\n",
    "    user_prompt = USER_PROMPT\n",
    "    return [\n",
    "        {\"role\": \"system\", \"content\": system_prompt},\n",
    "        {\n",
    "            \"role\": \"user\",\n",
    "            \"content\": [\n",
    "                {\"type\": \"text\", \"text\": user_prompt},\n",
    "                {\"type\": \"image_url\", \"image_url\": {\"url\": encoded_image}},\n",
    "            ],\n",
    "        },\n",
    "    ]"
   ]
  },
  {
   "cell_type": "markdown",
   "metadata": {},
   "source": [
    "### Step 3.04 Model Interaction\n",
    "\n",
    "Send message to model and stream output"
   ]
  },
  {
   "cell_type": "code",
   "execution_count": 17,
   "metadata": {},
   "outputs": [],
   "source": [
    "def stream_response(llm, messages):\n",
    "    response = llm.stream(messages)  # Stream AI response\n",
    "    print(\"Streaming response:\")\n",
    "    for chunk in response:\n",
    "        print(\n",
    "            chunk.content, end=\"\", flush=True\n",
    "        )  # Print each response chunk in real time"
   ]
  },
  {
   "cell_type": "markdown",
   "metadata": {},
   "source": [
    "#### Step 3.04a Image found on internet"
   ]
  },
  {
   "cell_type": "code",
   "execution_count": 22,
   "metadata": {},
   "outputs": [],
   "source": [
    "IMAGE_URL = \"https://activatelearning.com/wp-content/uploads/2024/10/OpenSciEd-Storylines-Structure-1024x505.jpg\""
   ]
  },
  {
   "cell_type": "code",
   "execution_count": 20,
   "metadata": {},
   "outputs": [
    {
     "data": {
      "text/html": [
       "<img src=\"https://activatelearning.com/wp-content/uploads/2024/10/OpenSciEd-Storylines-Structure-1024x505.jpg\"/>"
      ],
      "text/plain": [
       "<IPython.core.display.Image object>"
      ]
     },
     "metadata": {},
     "output_type": "display_data"
    },
    {
     "name": "stdout",
     "output_type": "stream",
     "text": [
      "Streaming response:\n",
      "The image represents educational ideologies focused on inquiry-based and experiential learning. Here's how these ideologies are reflected:\n",
      "\n",
      "1. **Inquiry-Based Learning**: \n",
      "   - The \"Driving Question Board\" and \"Investigation Routine\" emphasize developing questions and gathering evidence, which are key components of inquiry-based learning.\n",
      "\n",
      "2. **Experiential Learning**: \n",
      "   - The \"Anchoring Phenomenon Routine\" involves sharing experiences, aligning with experiential learning where students learn through direct experience.\n",
      "\n",
      "3. **Constructivism**:\n",
      "   - The \"Putting the Pieces Together Routine\" and \"Problematizing Routine\" suggest a constructivist approach, where learners build understanding through collaboration and problem-solving.\n",
      "\n",
      "4. **Reflective Learning**:\n",
      "   - The \"Navigation Routine\" and \"Questions Answered\" stages involve reflection on learning progress and outcomes, which is crucial for deep learning.\n",
      "\n",
      "These ideologies promote active engagement, critical thinking, and collaboration in the learning process."
     ]
    }
   ],
   "source": [
    "# Display the image\n",
    "display(Image(url=IMAGE_URL))\n",
    "encoded_image_url = encode_image(IMAGE_URL)\n",
    "\n",
    "#  Create messages and stream responses\n",
    "messages_url = create_messages(encoded_image_url)\n",
    "stream_response(llm, messages_url)"
   ]
  },
  {
   "cell_type": "markdown",
   "metadata": {},
   "source": [
    "#### Step 3.04b Image found in local folder"
   ]
  },
  {
   "cell_type": "code",
   "execution_count": 23,
   "metadata": {},
   "outputs": [],
   "source": [
    "IMAGE_PATH = \"images/Reported-confidence-in-ability-to-support-students-use-of-modeling-engagement-in_W640.jpg\""
   ]
  },
  {
   "cell_type": "code",
   "execution_count": 24,
   "metadata": {},
   "outputs": [
    {
     "data": {
      "text/html": [
       "<img src=\"data:image/jpeg;base64,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\" alt=\"Image\" style=\"max-width: 100%; height: auto;\">"
      ],
      "text/plain": [
       "<IPython.core.display.HTML object>"
      ]
     },
     "metadata": {},
     "output_type": "display_data"
    },
    {
     "name": "stdout",
     "output_type": "stream",
     "text": [
      "Streaming response:\n",
      "The image represents educational ideologies focused on inquiry-based learning and constructivism. Here's how these ideologies are reflected:\n",
      "\n",
      "1. **Inquiry-Based Learning**:\n",
      "   - **Support Developing and Using Models**: Encourages students to explore and create models, fostering a hands-on, inquiry-driven approach.\n",
      "   - **Support Engaging in Argument with Evidence**: Promotes critical thinking and reasoning, key components of inquiry-based learning.\n",
      "\n",
      "2. **Constructivism**:\n",
      "   - **Support Constructing Explanations & Designing Solutions**: Emphasizes students constructing their own understanding and knowledge through experiences and problem-solving.\n",
      "\n",
      "These ideologies focus on active learning, critical thinking, and the application of knowledge, moving away from rote memorization towards deeper understanding and skill development."
     ]
    }
   ],
   "source": [
    "# Encoding image\n",
    "\n",
    "encoded_image_file = encode_image(IMAGE_PATH)\n",
    "html_code = f'<img src=\"{encoded_image_file}\" alt=\"Image\" style=\"max-width: 100%; height: auto;\">'\n",
    "display(HTML(html_code))\n",
    "\n",
    "# Create messages and stream responses\n",
    "messages_file = create_messages(encoded_image_file)\n",
    "stream_response(llm, messages_file)"
   ]
  },
  {
   "cell_type": "markdown",
   "metadata": {},
   "source": [
    "## Step 4.00 Creating and working with Prompt Templates\n",
    "A prompt template is built with a static prompt question attached to a variable that can be dynamic and based on ever chaning user input.\n",
    "\n",
    "Example:  \n",
    "What is the distance between {pointA} and {pointB}?\n",
    "pointA = Pala Alto\n",
    "pointB = Chicago"
   ]
  },
  {
   "cell_type": "markdown",
   "metadata": {},
   "source": [
    "### Step 4.01 Define template and create 'PromptTemplat' object\n"
   ]
  },
  {
   "cell_type": "code",
   "execution_count": 25,
   "metadata": {},
   "outputs": [
    {
     "data": {
      "text/plain": [
       "PromptTemplate(input_variables=['pointA', 'pointB'], input_types={}, partial_variables={}, template='What is the distance between {pointA} and {pointB}?')"
      ]
     },
     "execution_count": 25,
     "metadata": {},
     "output_type": "execute_result"
    }
   ],
   "source": [
    "from langchain_core.prompts import PromptTemplate\n",
    "\n",
    "template = \"What is the distance between {pointA} and {pointB}?\"\n",
    "\n",
    "\n",
    "prompt_template = PromptTemplate.from_template(template)\n",
    "prompt_template "
   ]
  },
  {
   "cell_type": "markdown",
   "metadata": {},
   "source": [
    "### Step 4.02 Generate the prompt\n"
   ]
  },
  {
   "cell_type": "code",
   "execution_count": 27,
   "metadata": {},
   "outputs": [
    {
     "data": {
      "text/plain": [
       "'What is the distance between Palo Alto and Chicago?'"
      ]
     },
     "execution_count": 27,
     "metadata": {},
     "output_type": "execute_result"
    }
   ],
   "source": [
    "prompt = prompt_template.format(pointA=\"Palo Alto\", pointB=\"Chicago\")\n",
    "prompt"
   ]
  },
  {
   "cell_type": "code",
   "execution_count": 28,
   "metadata": {},
   "outputs": [
    {
     "data": {
      "text/plain": [
       "'What is the distance between The Sun and Saturn?'"
      ]
     },
     "execution_count": 28,
     "metadata": {},
     "output_type": "execute_result"
    }
   ],
   "source": [
    "prompt = prompt_template.format(pointA=\"The Sun\", pointB=\"Saturn\")\n",
    "prompt"
   ]
  }
 ],
 "metadata": {
  "kernelspec": {
   "display_name": "ragtest1-env",
   "language": "python",
   "name": "python3"
  },
  "language_info": {
   "codemirror_mode": {
    "name": "ipython",
    "version": 3
   },
   "file_extension": ".py",
   "mimetype": "text/x-python",
   "name": "python",
   "nbconvert_exporter": "python",
   "pygments_lexer": "ipython3",
   "version": "3.12.9"
  }
 },
 "nbformat": 4,
 "nbformat_minor": 2
}
